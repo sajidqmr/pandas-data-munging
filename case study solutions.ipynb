{
 "cells": [
  {
   "cell_type": "markdown",
   "metadata": {},
   "source": [
    "Q1Write a Python program to display first and last 10 rows from COVID-19 US dataset.\n",
    "Also the dataset information, descriptive statistics and missing values information?"
   ]
  },
  {
   "cell_type": "code",
   "execution_count": null,
   "metadata": {},
   "outputs": [],
   "source": [
    "\n",
    "import pandas as pd\n",
    "import numpy as np\n",
    "import matplotlib.pyplot as plt"
   ]
  },
  {
   "cell_type": "code",
   "execution_count": null,
   "metadata": {},
   "outputs": [],
   "source": [
    "import os\n",
    "import glob\n",
    "import pandas as pd\n",
    "os.chdir(\"C:/Users/sajid/Desktop/covid_19_daily_reports_us\")\n",
    "\n",
    "extension = 'csv'\n",
    "all_filenames = [i for i in glob.glob('*.{}'.format(extension))]\n",
    "\n",
    "#combine all files in the list\n",
    "combined_csv = pd.concat([pd.read_csv(f) for f in all_filenames ])\n",
    "#export to csv\n",
    "combined_csv.to_csv( \"combined_csv.csv\", index=False, encoding='utf-8-sig')"
   ]
  },
  {
   "cell_type": "code",
   "execution_count": null,
   "metadata": {},
   "outputs": [],
   "source": [
    "df=pd.read_csv('combined_csv.csv')\n",
    "df.head(10) #to show first 10 rows\n",
    "df.tail(10) #to show last 10 rows\n",
    "df.info() #to show information\n",
    "df.describe() #to show descriptive stats\n",
    "df.isnull() #to show missing values"
   ]
  },
  {
   "cell_type": "markdown",
   "metadata": {},
   "source": [
    "Q2 Write a Python program to sort the COVID-19 US dataset using Last_Update time and\n",
    "Handle missing values in following ways:\n",
    "a. Remove the observations which have NaN values for Last_Update and Active\n",
    "b. Replace NaN values with 0 for columns Recovered, Incident_Rate,\n",
    "People_Tested, People_Hospitalized, Mortality_Rate, Testing_Rate,\n",
    "Hospitalization_Rate\n",
    "c. Remove all other columns which have missing values "
   ]
  },
  {
   "cell_type": "code",
   "execution_count": null,
   "metadata": {},
   "outputs": [],
   "source": [
    "df=pd.read_csv('combined_csv.csv')\n",
    "df.sort_values(by='Last_Update') #sorting by last update\n",
    "df.dropna(subset=['Last_Update'], how='all', inplace=True) # drop last update row which contains missing values\n",
    "df.dropna(subset=['Active'], how='all', inplace=True) # drop active row which contains missing values\n",
    "df=df.groupby(['Recovered','Incident_Rate','People_Tested','People_Hospitalized','Mortality_Rate','Testing_Rate','Hospitalization_Rate']).fillna(0,axis=1)\n",
    "df\n"
   ]
  },
  {
   "cell_type": "markdown",
   "metadata": {},
   "source": [
    "Q3. Write a Python program to display/obtain the latest number of confirmed, deaths, recovered and active cases of Novel Coronavirus (COVID-19) Province State wise? hint: use groupby"
   ]
  },
  {
   "cell_type": "code",
   "execution_count": null,
   "metadata": {},
   "outputs": [],
   "source": [
    "df=pd.read_csv('combined_csv.csv')\n",
    "df.groupby(['Confirmed','Deaths','Recovered','Active']).sort_values('Province_State')\n"
   ]
  },
  {
   "cell_type": "markdown",
   "metadata": {},
   "source": [
    "4. Write a Python program to get the Indiana province wise cases of confirmed, recovered and deaths cases of Novel Coronavirus (COVID-19)? Also, write a Python program to sort the values based on recovered cases in descending order?"
   ]
  },
  {
   "cell_type": "code",
   "execution_count": null,
   "metadata": {},
   "outputs": [],
   "source": [
    "df=pd.read_csv('Combined_csv.csv')\n",
    "df[['Province_State','Confirmed','Recovered','Deaths']].iloc[17]\n",
    "df.sort_values('Recovered',ascending=False)"
   ]
  },
  {
   "cell_type": "code",
   "execution_count": null,
   "metadata": {},
   "outputs": [],
   "source": [
    "#Q5 Write a Python program to list province states with no deaths of Novel Coronavirus (COVID-19)?\n",
    "covid_data=pd.read_csv('Combined_csv.csv')\n",
    "data = covid_data.groupby('Province_State')['Confirmed', 'Deaths', 'Recovered'].sum().reset_index()\n",
    "result = data[data['Deaths']==0][['Province_State' ,'Deaths']]\n",
    "print(result)\n"
   ]
  },
  {
   "cell_type": "code",
   "execution_count": null,
   "metadata": {},
   "outputs": [],
   "source": [
    "#6. Write a Python program to list province states with all cases of Novel Coronavirus (COVID-19) are active?\n",
    "df=pd.read_csv('Combined_csv.csv')\n",
    "dfnew=df.groupby('Province_State')['Active'].sum().reset_index()\n",
    "print(dfnew.loc[(df['Active']>0)])"
   ]
  },
  {
   "cell_type": "markdown",
   "metadata": {},
   "source": [
    "7. Write a Python program to get the Top 5 province states data (Last Update, Province State, Active, Confirmed, Deaths, Recovered) with high active cases of Novel Coronavirus (COVID-19)."
   ]
  },
  {
   "cell_type": "code",
   "execution_count": null,
   "metadata": {},
   "outputs": [],
   "source": [
    "df=pd.read_csv('Combined_csv.csv')\n",
    "dfnew=df.groupby('Province_State')['Active','Last_Update','Province_State','Confirmed','Recovered'].sum().reset_index()\n",
    "dfnew.sort_values('Active',ascending=False).head(5)"
   ]
  },
  {
   "cell_type": "markdown",
   "metadata": {},
   "source": [
    "8. Write a NumPy program to compute the mean, standard deviation, and variance of an array with confirmed, deaths, recovered and active cases of Novel Coronavirus (COVID-19)? Also, Compute the weighted average along the specified axis (axis = 1) of a given array (weights = [1./10, 2./10, 3./10, 4./10])?"
   ]
  },
  {
   "cell_type": "code",
   "execution_count": null,
   "metadata": {},
   "outputs": [],
   "source": [
    "import numpy as np\n",
    "import pandas as pd\n",
    "df=pd.read_csv('Combined_csv.csv')\n",
    "a=np.array(df['Confirmed'])\n",
    "b=np.array(df['Deaths'])\n",
    "c=np.array(df['Recovered'])\n",
    "d=np.array(df['Active'])\n",
    "print('mean of confirmed',np.mean(a))\n",
    "print('mean of Deaths',np.mean(b))\n",
    "print('mean of Recovered',np.mean(c))\n",
    "print('mean of Active',np.mean(d))\n",
    "\n",
    "\n",
    "print('standard deviation of confirmed',np.std(a))\n",
    "print('standard deviation of Deaths',np.std(b))\n",
    "print('standard deviation of Recovered',np.std(c))\n",
    "print('standard deviation of Active',np.std(d))\n",
    "\n",
    "\n",
    "print('variance of confirmed',np.var(a))\n",
    "print('variance of Deaths',np.var(b))\n",
    "print('variance of Recovered',np.var(c))\n",
    "print('variance of Active',np.var(d))\n",
    "\n"
   ]
  },
  {
   "cell_type": "markdown",
   "metadata": {},
   "source": [
    "9. Write a Python program to create a plot (lines) of total deaths, confirmed, recovered and active cases province states wise where recovered and confirmed cases are greater than 0 and 1000000 respectively? Also, provide title as ‘Covid Data’, x axis label as ‘Province State’ and legend."
   ]
  },
  {
   "cell_type": "code",
   "execution_count": null,
   "metadata": {},
   "outputs": [],
   "source": [
    "import matplotlib.pyplot as plt\n",
    "\n",
    "covid_data=pd.read_csv('Combined_csv.csv')\n",
    "covid_data['Active'] = covid_data['Confirmed'] - covid_data['Deaths'] - covid_data['Recovered']\n",
    " \n",
    "r_data = covid_data.groupby([\"Province_State\"])[\"Deaths\", \"Confirmed\", \"Recovered\", \"Active\"].sum().reset_index()\n",
    "r_data = r_data.sort_values(by='Deaths', ascending=False)\n",
    "r_data = r_data[r_data['Recovered']>0]\n",
    "r_data = r_data[r_data['Confirmed']>1000000]\n",
    "plt.figure(figsize=(20, 15))\n",
    "plt.plot(r_data['Province_State'], r_data['Deaths'],color='red',label='Total Death')\n",
    "plt.plot(r_data['Province_State'], r_data['Confirmed'],color='green',label='Confirmed cases')\n",
    "plt.plot(r_data['Province_State'], r_data['Recovered'], color='blue',label='Recovered cases')\n",
    "plt.plot(r_data['Province_State'], r_data['Active'], color='black',label='Active cases')\n",
    " \n",
    "plt.title('Covid Data')\n",
    "plt.xlabel('Province_State')\n",
    "plt.legend()\n",
    "plt.show()"
   ]
  },
  {
   "cell_type": "markdown",
   "metadata": {},
   "source": [
    "10. Write a Python program to visualize USA wide Confirmed Novel Coronavirus (COVID-19) cases over time using panda’s visualization? Also, provide title as ‘USA Confirmed Cases over time'’, x axis label as ‘Last Update’ and legend."
   ]
  },
  {
   "cell_type": "code",
   "execution_count": null,
   "metadata": {},
   "outputs": [],
   "source": [
    "import matplotlib.pyplot as plt\n",
    "df= pd.read_csv('Combined_csv.csv')\n",
    "df.sort_values('Last_Update',ascending=True)\n",
    "plt.plot(df.Province_State,df.Confirmed,label= 'confirmed cases')\n",
    "plt.title('USA Confirmed Cases over time')\n",
    "plt.xlabel('Last Update')\n",
    "plt.legend()"
   ]
  },
  {
   "cell_type": "markdown",
   "metadata": {},
   "source": [
    "11. Write a Python program to visualize the distribution of the hospitalization rate of Novel Coronavirus (COVID-19) greater than 25% by province wise using seaborn? Hint: Box-plot"
   ]
  },
  {
   "cell_type": "code",
   "execution_count": null,
   "metadata": {},
   "outputs": [],
   "source": [
    "import seaborn as sns\n",
    "df=pd.read_csv('Combined_csv.csv')\n",
    "ndf=df[df['Hospitalization_Rate']>25]\n",
    "sns.boxplot(x = 'Province_State', y = 'Hospitalization_Rate', data =df)\n"
   ]
  },
  {
   "cell_type": "code",
   "execution_count": null,
   "metadata": {},
   "outputs": [],
   "source": []
  }
 ],
 "metadata": {
  "kernelspec": {
   "display_name": "Python 3",
   "language": "python",
   "name": "python3"
  },
  "language_info": {
   "codemirror_mode": {
    "name": "ipython",
    "version": 3
   },
   "file_extension": ".py",
   "mimetype": "text/x-python",
   "name": "python",
   "nbconvert_exporter": "python",
   "pygments_lexer": "ipython3",
   "version": "3.8.3"
  }
 },
 "nbformat": 4,
 "nbformat_minor": 4
}
